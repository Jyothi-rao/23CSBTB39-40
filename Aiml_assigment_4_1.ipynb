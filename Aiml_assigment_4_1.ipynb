{
  "nbformat": 4,
  "nbformat_minor": 0,
  "metadata": {
    "colab": {
      "provenance": [],
      "authorship_tag": "ABX9TyPlOcTSTf+kBHeyklYI008F",
      "include_colab_link": true
    },
    "kernelspec": {
      "name": "python3",
      "display_name": "Python 3"
    },
    "language_info": {
      "name": "python"
    }
  },
  "cells": [
    {
      "cell_type": "markdown",
      "metadata": {
        "id": "view-in-github",
        "colab_type": "text"
      },
      "source": [
        "<a href=\"https://colab.research.google.com/github/Jyothi-rao/23CSBTB39-40/blob/main/Aiml_assigment_4_1.ipynb\" target=\"_parent\"><img src=\"https://colab.research.google.com/assets/colab-badge.svg\" alt=\"Open In Colab\"/></a>"
      ]
    },
    {
      "cell_type": "code",
      "source": [
        "import numpy as np\n",
        "import pandas as pd\n",
        "import matplotlib.pyplot as plt\n",
        "import seaborn as sns\n",
        "Housing=pd.DataFrame(pd.read_csv(\"Housing.csv-aiml.csv\"))\n",
        "Housing.head()\n",
        "Housing.tail()\n",
        "rows=len(Housing.axes[0])\n",
        "cols=len(Housing.axes[1])\n",
        "print(\"Number of rows\",rows)\n",
        "print(\"Number of columns\",cols)"
      ],
      "metadata": {
        "colab": {
          "base_uri": "https://localhost:8080/"
        },
        "id": "Nc851B4wYeOc",
        "outputId": "921fecb2-acbc-41d7-96df-2874a8dd72d4"
      },
      "execution_count": 11,
      "outputs": [
        {
          "output_type": "stream",
          "name": "stdout",
          "text": [
            "Number of rows 545\n",
            "Number of columns 13\n"
          ]
        }
      ]
    }
  ]
}