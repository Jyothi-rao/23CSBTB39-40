{
  "nbformat": 4,
  "nbformat_minor": 0,
  "metadata": {
    "colab": {
      "provenance": [],
      "authorship_tag": "ABX9TyMg2TAjA0MxXFHd2CDrsooW",
      "include_colab_link": true
    },
    "kernelspec": {
      "name": "python3",
      "display_name": "Python 3"
    },
    "language_info": {
      "name": "python"
    }
  },
  "cells": [
    {
      "cell_type": "markdown",
      "metadata": {
        "id": "view-in-github",
        "colab_type": "text"
      },
      "source": [
        "<a href=\"https://colab.research.google.com/github/Jyothi-rao/23CSBTB39-40/blob/main/assigment_3_AIML.ipynb\" target=\"_parent\"><img src=\"https://colab.research.google.com/assets/colab-badge.svg\" alt=\"Open In Colab\"/></a>"
      ]
    },
    {
      "cell_type": "code",
      "source": [
        "from collections import namedtuple,defaultdict\n",
        "import random\n",
        "import math\n",
        "import functools\n",
        "cache=functools.lru_cache(18**6)"
      ],
      "metadata": {
        "id": "-Wh8mjC9S35B"
      },
      "execution_count": 12,
      "outputs": []
    },
    {
      "cell_type": "code",
      "source": [
        "class Game:\n",
        "    def actions(self, state ):\n",
        "        \"\"\"Return a collection of the allowable moves from this state .\"\"\"\n",
        "        raise NotImplementedError\n",
        "        def result(self, state , move ):\n",
        "          \"\"\"Return the state that results from making a move from a state .\"\"\"\n",
        "          raise NotImplementedError\n",
        "          def is_terminal (self, state ):\n",
        "            \"\"\"Return True i f this is a final state for the game.\"\"\"\n",
        "            return not self.actions(state)\n",
        "            def utility(self, state , player ):\n",
        "              \"\"\"Return the value of this final state to player .\"\"\"\n",
        "              raise NotImplementedError\n",
        "              def play_game (game , strategies : dict , verbose=False ):\n",
        "                \"\"\"Play a turn−taking game. ‘strategies ‘ is a {player name: function} dict ,\n",
        "                where function(state , game) is used to get the player ’s move.\"\"\"\n",
        "                state = game.initial\n",
        "                while not game. is_terminal (state ):\n",
        "                  player = state. to_move\n",
        "                  move = strategies [player ](game , state)\n",
        "                  state = game.result(state , move)\n",
        "                  if verbose:\n",
        "                    print('Player', player , 'move:', move)\n",
        "                    print(state)\n",
        "                    return state"
      ],
      "metadata": {
        "id": "wnFENbuETD-V"
      },
      "execution_count": 13,
      "outputs": []
    }
  ]
}